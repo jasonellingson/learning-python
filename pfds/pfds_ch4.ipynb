{
 "cells": [
  {
   "cell_type": "markdown",
   "metadata": {},
   "source": [
    "Python for Data Science Ch 4: APIs"
   ]
  },
  {
   "cell_type": "markdown",
   "metadata": {},
   "source": [
    "Basic Info"
   ]
  },
  {
   "cell_type": "code",
   "execution_count": 4,
   "metadata": {},
   "outputs": [
    {
     "name": "stdout",
     "output_type": "stream",
     "text": [
      "{'ISBN:9780553393965': {'bib_key': 'ISBN:9780553393965', 'info_url': 'http://openlibrary.org/books/OL37798812M/And_There_Was_Light', 'preview': 'noview', 'preview_url': 'http://openlibrary.org/books/OL37798812M/And_There_Was_Light', 'thumbnail_url': 'https://covers.openlibrary.org/b/id/12973166-S.jpg'}}\n"
     ]
    }
   ],
   "source": [
    "import requests\n",
    "import json\n",
    "PARAMS = {'bibkeys':'ISBN:9780553393965', 'format':'json'}\n",
    "r = requests.get('http://openlibrary.org/api/books', params = PARAMS)\n",
    "files = r.json()\n",
    "print(files)"
   ]
  },
  {
   "cell_type": "markdown",
   "metadata": {},
   "source": [
    "With More Data"
   ]
  },
  {
   "cell_type": "code",
   "execution_count": 5,
   "metadata": {},
   "outputs": [
    {
     "name": "stdout",
     "output_type": "stream",
     "text": [
      "{'ISBN:9780553393965': {'url': 'http://openlibrary.org/books/OL37798812M/And_There_Was_Light', 'key': '/books/OL37798812M', 'title': 'And There Was Light', 'subtitle': 'Abraham Lincoln and the American Struggle', 'authors': [{'url': 'http://openlibrary.org/authors/OL1516333A/Jon_Meacham', 'name': 'Jon Meacham'}], 'number_of_pages': 720, 'identifiers': {'isbn_10': ['0553393960'], 'isbn_13': ['9780553393965'], 'openlibrary': ['OL37798812M']}, 'publishers': [{'name': 'Random House'}], 'publish_date': 'Oct 25, 2022', 'notes': 'Source title: And There Was Light: Abraham Lincoln and the American Struggle', 'cover': {'small': 'https://covers.openlibrary.org/b/id/12973166-S.jpg', 'medium': 'https://covers.openlibrary.org/b/id/12973166-M.jpg', 'large': 'https://covers.openlibrary.org/b/id/12973166-L.jpg'}}}\n"
     ]
    }
   ],
   "source": [
    "PARAMS = {'bibkeys':'ISBN:9780553393965', 'format':'json', 'jscmd':'data'}\n",
    "r = requests.get('http://openlibrary.org/api/books', params = PARAMS)\n",
    "files = r.json()\n",
    "print(files)"
   ]
  },
  {
   "cell_type": "markdown",
   "metadata": {},
   "source": [
    "With More Details"
   ]
  },
  {
   "cell_type": "code",
   "execution_count": 6,
   "metadata": {},
   "outputs": [
    {
     "name": "stdout",
     "output_type": "stream",
     "text": [
      "{'ISBN:9780553393965': {'bib_key': 'ISBN:9780553393965', 'info_url': 'http://openlibrary.org/books/OL37798812M/And_There_Was_Light', 'preview': 'noview', 'preview_url': 'http://openlibrary.org/books/OL37798812M/And_There_Was_Light', 'thumbnail_url': 'https://covers.openlibrary.org/b/id/12973166-S.jpg', 'details': {'type': {'key': '/type/edition'}, 'title': 'And There Was Light', 'authors': [{'key': '/authors/OL1516333A', 'name': 'Jon Meacham'}], 'publish_date': 'Oct 25, 2022', 'source_records': ['amazon:0553393960', 'bwb:9780553393965'], 'number_of_pages': 720, 'publishers': ['Random House'], 'isbn_10': ['0553393960'], 'isbn_13': ['9780553393965'], 'physical_format': 'hardcover', 'full_title': 'And There Was Light Abraham Lincoln and the American Struggle', 'subtitle': 'Abraham Lincoln and the American Struggle', 'notes': {'type': '/type/text', 'value': 'Source title: And There Was Light: Abraham Lincoln and the American Struggle'}, 'works': [{'key': '/works/OL27709100W'}], 'key': '/books/OL37798812M', 'covers': [12973166], 'latest_revision': 3, 'revision': 3, 'created': {'type': '/type/datetime', 'value': '2022-04-04T19:36:09.353058'}, 'last_modified': {'type': '/type/datetime', 'value': '2022-10-26T20:13:16.427225'}}}}\n"
     ]
    }
   ],
   "source": [
    "PARAMS = {'bibkeys':'ISBN:9780553393965', 'format':'json', 'jscmd':'details'}\n",
    "r = requests.get('http://openlibrary.org/api/books', params = PARAMS)\n",
    "files = r.json()\n",
    "print(files)"
   ]
  }
 ],
 "metadata": {
  "kernelspec": {
   "display_name": "Python 3.9.2 64-bit",
   "language": "python",
   "name": "python3"
  },
  "language_info": {
   "codemirror_mode": {
    "name": "ipython",
    "version": 3
   },
   "file_extension": ".py",
   "mimetype": "text/x-python",
   "name": "python",
   "nbconvert_exporter": "python",
   "pygments_lexer": "ipython3",
   "version": "3.9.2"
  },
  "orig_nbformat": 4,
  "vscode": {
   "interpreter": {
    "hash": "aee8b7b246df8f9039afb4144a1f6fd8d2ca17a180786b69acc140d282b71a49"
   }
  }
 },
 "nbformat": 4,
 "nbformat_minor": 2
}
