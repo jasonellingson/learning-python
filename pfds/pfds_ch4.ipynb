{
 "cells": [
  {
   "cell_type": "markdown",
   "metadata": {},
   "source": [
    "Python for Data Science Ch 4: APIs"
   ]
  },
  {
   "cell_type": "markdown",
   "metadata": {},
   "source": [
    "Basic Info"
   ]
  },
  {
   "cell_type": "code",
   "execution_count": 14,
   "metadata": {},
   "outputs": [
    {
     "name": "stdout",
     "output_type": "stream",
     "text": [
      "{'ISBN:0670034932': {'bib_key': 'ISBN:0670034932', 'info_url': 'http://openlibrary.org/books/OL3429823M/This_book_will_save_your_life', 'preview': 'borrow', 'preview_url': 'https://archive.org/details/thisbookwillsave00home', 'thumbnail_url': 'https://covers.openlibrary.org/b/id/400626-S.jpg'}}\n"
     ]
    }
   ],
   "source": [
    "import requests\n",
    "import json\n",
    "import pandas as pd\n",
    "PARAMS = {'bibkeys':'ISBN:0670034932', 'format':'json'}\n",
    "r = requests.get('http://openlibrary.org/api/books', params = PARAMS)\n",
    "files = r.json()\n",
    "print(files)"
   ]
  },
  {
   "cell_type": "markdown",
   "metadata": {},
   "source": [
    "With More Data"
   ]
  },
  {
   "cell_type": "code",
   "execution_count": 15,
   "metadata": {},
   "outputs": [
    {
     "name": "stdout",
     "output_type": "stream",
     "text": [
      "{'ISBN:0670034932': {'url': 'http://openlibrary.org/books/OL3429823M/This_book_will_save_your_life', 'key': '/books/OL3429823M', 'title': 'This book will save your life', 'authors': [{'url': 'http://openlibrary.org/authors/OL20429A/A._M._Homes', 'name': 'A. M. Homes'}], 'pagination': 'p. cm.', 'by_statement': 'A.M. Homes.', 'identifiers': {'librarything': ['627071'], 'goodreads': ['29415'], 'isbn_10': ['0670034932'], 'lccn': ['2005054697'], 'openlibrary': ['OL3429823M']}, 'classifications': {'lc_classifications': ['PS3558.O448 T483 2006'], 'dewey_decimal_class': ['813/.54']}, 'publishers': [{'name': 'Viking'}], 'publish_places': [{'name': 'New York'}], 'publish_date': '2006', 'subjects': [{'name': 'Middle-aged men', 'url': 'https://openlibrary.org/subjects/middle-aged_men'}, {'name': 'Fiction', 'url': 'https://openlibrary.org/subjects/fiction'}], 'ebooks': [{'preview_url': 'https://archive.org/details/thisbookwillsave00home', 'availability': 'borrow', 'formats': {}, 'borrow_url': 'https://openlibrary.org/books/OL3429823M/This_book_will_save_your_life/borrow', 'checkedout': False}], 'cover': {'small': 'https://covers.openlibrary.org/b/id/400626-S.jpg', 'medium': 'https://covers.openlibrary.org/b/id/400626-M.jpg', 'large': 'https://covers.openlibrary.org/b/id/400626-L.jpg'}}}\n"
     ]
    }
   ],
   "source": [
    "PARAMS = {'bibkeys':'ISBN:0670034932', 'format':'json', 'jscmd':'data'}\n",
    "r = requests.get('http://openlibrary.org/api/books', params = PARAMS)\n",
    "files = r.json()\n",
    "print(files)"
   ]
  },
  {
   "cell_type": "markdown",
   "metadata": {},
   "source": [
    "With More Details"
   ]
  },
  {
   "cell_type": "code",
   "execution_count": 16,
   "metadata": {},
   "outputs": [
    {
     "name": "stdout",
     "output_type": "stream",
     "text": [
      "{'ISBN:0670034932': {'bib_key': 'ISBN:0670034932', 'info_url': 'http://openlibrary.org/books/OL3429823M/This_book_will_save_your_life', 'preview': 'borrow', 'preview_url': 'https://archive.org/details/thisbookwillsave00home', 'thumbnail_url': 'https://covers.openlibrary.org/b/id/400626-S.jpg', 'details': {'publishers': ['Viking'], 'ia_box_id': ['IA128515'], 'pagination': 'p. cm.', 'covers': [400626], 'local_id': ['urn:phillips:31867004001421', 'urn:sfpl:31223072329817', 'urn:sfpl:31223071804539', 'urn:sfpl:31223071804497', 'urn:sfpl:31223072329767', 'urn:sfpl:31223072329775', 'urn:sfpl:31223072327464', 'urn:sfpl:31223072329833', 'urn:sfpl:31223072329742', 'urn:sfpl:31223072329791'], 'lc_classifications': ['PS3558.O448 T483 2006'], 'key': '/books/OL3429823M', 'authors': [{'key': '/authors/OL20429A', 'name': 'A. M. Homes'}], 'ocaid': 'thisbookwillsave00home', 'publish_places': ['New York'], 'subjects': ['Middle-aged men -- Fiction'], 'genres': ['Fiction.'], 'classifications': {}, 'source_records': ['marc:marc_records_scriblio_net/part15.dat:150516384:596', 'marc:marc_loc_updates/v35.i20.records.utf8:21108539:1800', 'ia:thisbookwillsave00home', 'marc:marc_openlibraries_phillipsacademy/PANO_FOR_IA_05072019.mrc:29017877:999', 'marc:marc_openlibraries_sanfranciscopubliclibrary/sfpl_chq_2018_12_24_run03.mrc:137619379:3238', 'marc:marc_loc_2016/BooksAll.2016.part32.utf8:177151129:1800'], 'title': 'This book will save your life', 'lccn': ['2005054697'], 'identifiers': {'librarything': ['627071'], 'goodreads': ['29415']}, 'languages': [{'key': '/languages/eng'}], 'dewey_decimal_class': ['813/.54'], 'isbn_10': ['0670034932'], 'publish_date': '2006', 'publish_country': 'nyu', 'by_statement': 'A.M. Homes.', 'works': [{'key': '/works/OL16621349W'}], 'type': {'key': '/type/edition'}, 'latest_revision': 12, 'revision': 12, 'created': {'type': '/type/datetime', 'value': '2008-04-01T03:28:50.625462'}, 'last_modified': {'type': '/type/datetime', 'value': '2020-12-11T11:34:12.704592'}}}}\n"
     ]
    }
   ],
   "source": [
    "PARAMS = {'bibkeys':'ISBN:0670034932', 'format':'json', 'jscmd':'details'}\n",
    "r = requests.get('http://openlibrary.org/api/books', params = PARAMS)\n",
    "files = r.json()\n",
    "print(files)"
   ]
  },
  {
   "cell_type": "code",
   "execution_count": 18,
   "metadata": {},
   "outputs": [],
   "source": [
    "with open(\"danBrown.json\",) as fp:\n",
    "    d = json.load(fp)"
   ]
  },
  {
   "cell_type": "code",
   "execution_count": 19,
   "metadata": {},
   "outputs": [
    {
     "name": "stdout",
     "output_type": "stream",
     "text": [
      "{'@uri': 'https://reststop.randomhouse.com/resources/authors/3446/', 'approved': 'X', 'authordisplay': 'Dan Brown', 'authorfirst': 'Dan', 'authorfirstlc': 'dan', 'authorid': '3446', 'authorlast': 'Brown', 'authorlastfirst': 'BROWN, DAN', 'authorlastlc': 'brown', 'lastinitial': 'b', 'photocredit': 'Philip Scalia', 'spotlight': \"Dan Brown is the author of numerous #1 bestselling novels, including the recent record-breaking The Lost Symbol, which had the biggest one-week sale in Penguin Random House history for a single title.  His previous title, The Da Vinci Code, has sold more than 80 million copies worldwide, making it one of the bestselling novels of all time. In addition to numerous appearances on The Today Show, Mr. Brown was named one of the World's 100 Most Influential People by Time Magazine. He has appeared in the pages of Newsweek, Forbes, People, GQ, The New Yorker, and others. His novels are published in over 50 languages around the world.\"}\n"
     ]
    }
   ],
   "source": [
    "print(d)"
   ]
  },
  {
   "cell_type": "code",
   "execution_count": 24,
   "metadata": {},
   "outputs": [
    {
     "name": "stdout",
     "output_type": "stream",
     "text": [
      "@uri\n",
      "approved\n",
      "authordisplay\n",
      "authorfirst\n",
      "authorfirstlc\n",
      "authorid\n",
      "authorlast\n",
      "authorlastfirst\n",
      "authorlastlc\n",
      "lastinitial\n",
      "photocredit\n",
      "spotlight\n"
     ]
    }
   ],
   "source": [
    "for x in d:\n",
    "    print(x)"
   ]
  },
  {
   "cell_type": "code",
   "execution_count": 25,
   "metadata": {},
   "outputs": [
    {
     "name": "stdout",
     "output_type": "stream",
     "text": [
      "ISBN:0670034932\n"
     ]
    }
   ],
   "source": [
    "for x in files:\n",
    "    print(x)"
   ]
  }
 ],
 "metadata": {
  "kernelspec": {
   "display_name": "Python 3.9.2 64-bit",
   "language": "python",
   "name": "python3"
  },
  "language_info": {
   "codemirror_mode": {
    "name": "ipython",
    "version": 3
   },
   "file_extension": ".py",
   "mimetype": "text/x-python",
   "name": "python",
   "nbconvert_exporter": "python",
   "pygments_lexer": "ipython3",
   "version": "3.9.2"
  },
  "orig_nbformat": 4,
  "vscode": {
   "interpreter": {
    "hash": "aee8b7b246df8f9039afb4144a1f6fd8d2ca17a180786b69acc140d282b71a49"
   }
  }
 },
 "nbformat": 4,
 "nbformat_minor": 2
}
