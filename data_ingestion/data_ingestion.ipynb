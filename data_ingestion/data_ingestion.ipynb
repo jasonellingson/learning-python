{
 "cells": [
  {
   "cell_type": "code",
   "execution_count": 1,
   "metadata": {},
   "outputs": [],
   "source": [
    "import pandas as pd\n",
    "data_html = pd.read_html(\"https://en.wikipedia.org/wiki/Money_Heist\")[1]\n"
   ]
  },
  {
   "cell_type": "code",
   "execution_count": 2,
   "metadata": {},
   "outputs": [
    {
     "data": {
      "text/html": [
       "<div>\n",
       "<style scoped>\n",
       "    .dataframe tbody tr th:only-of-type {\n",
       "        vertical-align: middle;\n",
       "    }\n",
       "\n",
       "    .dataframe tbody tr th {\n",
       "        vertical-align: top;\n",
       "    }\n",
       "\n",
       "    .dataframe thead tr th {\n",
       "        text-align: left;\n",
       "    }\n",
       "</style>\n",
       "<table border=\"1\" class=\"dataframe\">\n",
       "  <thead>\n",
       "    <tr>\n",
       "      <th></th>\n",
       "      <th>Part[a]</th>\n",
       "      <th>Season[a]</th>\n",
       "      <th colspan=\"2\" halign=\"left\">Episodes</th>\n",
       "      <th colspan=\"3\" halign=\"left\">Originally released</th>\n",
       "    </tr>\n",
       "    <tr>\n",
       "      <th></th>\n",
       "      <th>Part[a]</th>\n",
       "      <th>Season[a]</th>\n",
       "      <th>Episodes</th>\n",
       "      <th>Episodes.1</th>\n",
       "      <th>First released</th>\n",
       "      <th>Last released</th>\n",
       "      <th>Network</th>\n",
       "    </tr>\n",
       "  </thead>\n",
       "  <tbody>\n",
       "    <tr>\n",
       "      <th>0</th>\n",
       "      <td>1</td>\n",
       "      <td>1[e]</td>\n",
       "      <td>13</td>\n",
       "      <td>13</td>\n",
       "      <td>2 May 2017</td>\n",
       "      <td>27 June 2017</td>\n",
       "      <td>Antena 3</td>\n",
       "    </tr>\n",
       "    <tr>\n",
       "      <th>1</th>\n",
       "      <td>2</td>\n",
       "      <td>1[e]</td>\n",
       "      <td>9</td>\n",
       "      <td>9</td>\n",
       "      <td>16 October 2017</td>\n",
       "      <td>23 November 2017</td>\n",
       "      <td>Antena 3</td>\n",
       "    </tr>\n",
       "    <tr>\n",
       "      <th>2</th>\n",
       "      <td>3</td>\n",
       "      <td>2</td>\n",
       "      <td>8</td>\n",
       "      <td>8</td>\n",
       "      <td>19 July 2019</td>\n",
       "      <td>19 July 2019</td>\n",
       "      <td>Netflix</td>\n",
       "    </tr>\n",
       "    <tr>\n",
       "      <th>3</th>\n",
       "      <td>4</td>\n",
       "      <td>2</td>\n",
       "      <td>8</td>\n",
       "      <td>8</td>\n",
       "      <td>3 April 2020</td>\n",
       "      <td>3 April 2020</td>\n",
       "      <td>Netflix</td>\n",
       "    </tr>\n",
       "    <tr>\n",
       "      <th>4</th>\n",
       "      <td>5</td>\n",
       "      <td>3</td>\n",
       "      <td>10</td>\n",
       "      <td>5</td>\n",
       "      <td>3 September 2021</td>\n",
       "      <td>3 September 2021</td>\n",
       "      <td>Netflix</td>\n",
       "    </tr>\n",
       "  </tbody>\n",
       "</table>\n",
       "</div>"
      ],
      "text/plain": [
       "  Part[a] Season[a] Episodes            Originally released                    \\\n",
       "  Part[a] Season[a] Episodes Episodes.1      First released     Last released   \n",
       "0       1      1[e]       13         13          2 May 2017      27 June 2017   \n",
       "1       2      1[e]        9          9     16 October 2017  23 November 2017   \n",
       "2       3         2        8          8        19 July 2019      19 July 2019   \n",
       "3       4         2        8          8        3 April 2020      3 April 2020   \n",
       "4       5         3       10          5    3 September 2021  3 September 2021   \n",
       "\n",
       "             \n",
       "    Network  \n",
       "0  Antena 3  \n",
       "1  Antena 3  \n",
       "2   Netflix  \n",
       "3   Netflix  \n",
       "4   Netflix  "
      ]
     },
     "execution_count": 2,
     "metadata": {},
     "output_type": "execute_result"
    }
   ],
   "source": [
    "data_html.head()"
   ]
  },
  {
   "cell_type": "code",
   "execution_count": 1,
   "metadata": {},
   "outputs": [
    {
     "name": "stdout",
     "output_type": "stream",
     "text": [
      "Opened database successfully\n"
     ]
    }
   ],
   "source": [
    "import sqlite3\n",
    "conn = sqlite3.connect('testdb.sqlite')\n",
    "cursor = conn.cursor()\n",
    "print(\"Opened database successfully\")"
   ]
  },
  {
   "cell_type": "code",
   "execution_count": 2,
   "metadata": {},
   "outputs": [],
   "source": [
    "cursor.execute('''CREATE TABLE SCHOOL\n",
    "         (ID INT PRIMARY KEY     NOT NULL,\n",
    "         NAME           TEXT    NOT NULL,\n",
    "         AGE            INT     NOT NULL,\n",
    "         ADDRESS        CHAR(50),\n",
    "         MARKS          INT);''')\n",
    "cursor.close()"
   ]
  },
  {
   "cell_type": "code",
   "execution_count": 3,
   "metadata": {},
   "outputs": [],
   "source": [
    "cursor = conn.cursor()\n",
    "cursor.execute(\"INSERT INTO SCHOOL (ID,NAME,AGE,ADDRESS,MARKS) \\\n",
    "      VALUES (1, 'Rohan', 14, 'Delhi', 200)\");\n",
    "cursor.execute(\"INSERT INTO SCHOOL (ID,NAME,AGE,ADDRESS,MARKS) \\\n",
    "      VALUES (2, 'Allen', 14, 'Bangalore', 150 )\");\n",
    "cursor.execute(\"INSERT INTO SCHOOL (ID,NAME,AGE,ADDRESS,MARKS) \\\n",
    "      VALUES (3, 'Martha', 15, 'Hyderabad', 200 )\");\n",
    "cursor.execute(\"INSERT INTO SCHOOL (ID,NAME,AGE,ADDRESS,MARKS) \\\n",
    "      VALUES (4, 'Palak', 15, 'Kolkata', 650)\");\n",
    "conn.commit()"
   ]
  },
  {
   "cell_type": "code",
   "execution_count": 4,
   "metadata": {},
   "outputs": [
    {
     "name": "stdout",
     "output_type": "stream",
     "text": [
      "ID =  1\n",
      "NAME =  Rohan\n",
      "MARKS =  200 \n",
      "\n",
      "ID =  2\n",
      "NAME =  Allen\n",
      "MARKS =  150 \n",
      "\n",
      "ID =  3\n",
      "NAME =  Martha\n",
      "MARKS =  200 \n",
      "\n",
      "ID =  4\n",
      "NAME =  Palak\n",
      "MARKS =  650 \n",
      "\n"
     ]
    }
   ],
   "source": [
    "cursor = conn.cursor()\n",
    "\n",
    "for row in cursor.execute(\"SELECT id, name, marks from SCHOOL\"):\n",
    "\n",
    "    print(\"ID = \", row[0])\n",
    "    print(\"NAME = \", row[1])\n",
    "    print(\"MARKS = \", row[2], \"\\n\")\n",
    "\n",
    "conn.commit()\n",
    "# conn.close()"
   ]
  },
  {
   "cell_type": "code",
   "execution_count": null,
   "metadata": {},
   "outputs": [],
   "source": []
  }
 ],
 "metadata": {
  "kernelspec": {
   "display_name": "Python 3.9.2 64-bit",
   "language": "python",
   "name": "python3"
  },
  "language_info": {
   "codemirror_mode": {
    "name": "ipython",
    "version": 3
   },
   "file_extension": ".py",
   "mimetype": "text/x-python",
   "name": "python",
   "nbconvert_exporter": "python",
   "pygments_lexer": "ipython3",
   "version": "3.9.2"
  },
  "orig_nbformat": 4,
  "vscode": {
   "interpreter": {
    "hash": "aee8b7b246df8f9039afb4144a1f6fd8d2ca17a180786b69acc140d282b71a49"
   }
  }
 },
 "nbformat": 4,
 "nbformat_minor": 2
}
